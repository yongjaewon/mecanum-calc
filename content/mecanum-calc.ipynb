{
 "cells": [
  {
   "cell_type": "code",
   "execution_count": 1,
   "id": "529cd46b-a449-4d32-bf80-a30e46703435",
   "metadata": {},
   "outputs": [],
   "source": [
    "import math\n",
    "from pint import UnitRegistry\n",
    "ureg = UnitRegistry()\n",
    "\n",
    "def to_newtons(value_with_unit):\n",
    "    # Return numeric force in N regardless of the input unit\n",
    "    qty = ureg.Quantity(value_with_unit)\n",
    "    # If someone enters a mass, convert to weight by multiplying g\n",
    "    if (qty.check('[mass]')):\n",
    "        qty = qty * ureg.gravity\n",
    "    return qty.to('newton').magnitude"
   ]
  },
  {
   "cell_type": "code",
   "execution_count": 2,
   "id": "4c30dd90-d2ab-4964-a3da-b1bfc45d9986",
   "metadata": {},
   "outputs": [],
   "source": [
    "# loads\n",
    "robot_weight = \"2800 lbs\"\n",
    "payload_weight = \"12000 lbs\"\n",
    "number_of_wheels = 8\n",
    "max_angle = \"8 deg\"\n",
    "\n",
    "# mecanum geometry\n",
    "wheel_diameter = \"12 in\"\n",
    "radius_along_roller_axis = \"277 mm\"\n",
    "radius_rolling_direction = \"33.3 mm\"\n",
    "\n",
    "# polyurethane properties\n",
    "durometer_value = 95\n",
    "durometer_scale = 'A'\n",
    "elastic_modulus_pu = \"4 ksi\"\n",
    "poisson_ratio_pu = 0.49\n",
    "shelf_life = \"3 years\"\n",
    "\n",
    "# floor properties\n",
    "elastic_modulus_floor = \"30 GPa\"\n",
    "compressive_strength_floor = \"4000 psi\"\n",
    "poisson_ratio_floor = 0.2\n",
    "floor_thickness = \"6 in\"\n",
    "\n",
    "# grip\n",
    "coefficient_of_friction = 0.21\n",
    "\n"
   ]
  },
  {
   "cell_type": "code",
   "execution_count": 3,
   "id": "435200d6-85ec-44b2-b456-e0c055ec8388",
   "metadata": {},
   "outputs": [
    {
     "name": "stdout",
     "output_type": "stream",
     "text": [
      "Per-wheel load: 8229 N (1850.0 lbf)\n"
     ]
    }
   ],
   "source": [
    "total_weight = to_newtons(robot_weight) + to_newtons(payload_weight)\n",
    "wheel_load = total_weight/number_of_wheels\n",
    "wheel_load_lbf = (wheel_load * ureg.newton).to('lbf').magnitude\n",
    "print(f\"Per-wheel load: {wheel_load:.0f} N ({wheel_load_lbf:.1f} lbf)\")\n",
    "\n",
    "\n",
    "\n",
    "contact_area = 1\n",
    "contact_perimeter = 1\n",
    "contact_semi_major_axis = 1\n",
    "contact_semi_minor_axis = 1"
   ]
  }
 ],
 "metadata": {
  "kernelspec": {
   "display_name": "Python 3 (ipykernel)",
   "language": "python",
   "name": "python3"
  },
  "language_info": {
   "codemirror_mode": {
    "name": "ipython",
    "version": 3
   },
   "file_extension": ".py",
   "mimetype": "text/x-python",
   "name": "python",
   "nbconvert_exporter": "python",
   "pygments_lexer": "ipython3",
   "version": "3.12.10"
  }
 },
 "nbformat": 4,
 "nbformat_minor": 5
}
